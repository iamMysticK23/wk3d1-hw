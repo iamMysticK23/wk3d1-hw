{
 "cells": [
  {
   "cell_type": "markdown",
   "metadata": {},
   "source": [
    "# Map, Filter, Reduce, Lambda & Recursion"
   ]
  },
  {
   "cell_type": "markdown",
   "metadata": {},
   "source": [
    "## Tasks Today:\n",
    "\n",
    "1) <b>Lambda Functions</b> <br>\n",
    " &nbsp;&nbsp;&nbsp;&nbsp; a) Syntax <br>\n",
    " &nbsp;&nbsp;&nbsp;&nbsp; b) Saving to a Variable <br>\n",
    " &nbsp;&nbsp;&nbsp;&nbsp; c) Multiple Inputs <br>\n",
    " &nbsp;&nbsp;&nbsp;&nbsp; d) Passing a Lambda into a Function <br>\n",
    " &nbsp;&nbsp;&nbsp;&nbsp; e) Returning a Lambda from a Function <br>\n",
    " &nbsp;&nbsp;&nbsp;&nbsp; f) In-Class Exercise #1 <br>\n",
    "2) <b>Map</b> <br>\n",
    " &nbsp;&nbsp;&nbsp;&nbsp; a) Syntax <br>\n",
    " &nbsp;&nbsp;&nbsp;&nbsp; b) Using Lambda's with Map <br>\n",
    " &nbsp;&nbsp;&nbsp;&nbsp; c) In-Class Exercise #2 <br>\n",
    "3) <b>Filter</b> <br>\n",
    " &nbsp;&nbsp;&nbsp;&nbsp; a) Syntax <br>\n",
    " &nbsp;&nbsp;&nbsp;&nbsp; b) Using Lambda's with Filter <br>\n",
    " &nbsp;&nbsp;&nbsp;&nbsp; c) In-Class Exercise #3 <br>\n",
    "4) <b>Reduce</b> <br>\n",
    " &nbsp;&nbsp;&nbsp;&nbsp; a) Syntax <br>\n",
    " &nbsp;&nbsp;&nbsp;&nbsp; b) Using Lambda's with Reduce <br>\n",
    " &nbsp;&nbsp;&nbsp;&nbsp; c) In-Class Exercise #4 <br>\n",
    "5) <b>Generators & Iterators</b> <br>\n",
    " &nbsp;&nbsp;&nbsp;&nbsp; a) Yield Keyword <br>\n",
    " &nbsp;&nbsp;&nbsp;&nbsp; b) Inifinite Generator <br>\n",
    " &nbsp;&nbsp;&nbsp;&nbsp; c) In-Class Exercise #6 <br>\n",
    "6) <b>Exercises</b> <br>\n",
    " &nbsp;&nbsp;&nbsp;&nbsp; a) Exercise #1 - Filtering Empty Strings <br>\n",
    " &nbsp;&nbsp;&nbsp;&nbsp; b) Exercise #2 - Sorting with Last Name <br>\n",
    " &nbsp;&nbsp;&nbsp;&nbsp; c) Exercise #3 - Conversion to Farhenheit <br>\n",
    " &nbsp;&nbsp;&nbsp;&nbsp; d) Exercise #4 - Generator Sequence <br>"
   ]
  },
  {
   "cell_type": "markdown",
   "metadata": {},
   "source": [
    "## Lambda Functions <br>\n",
    "<p>Lambda functions... or \"Anonymous Functions\" are referring to inline functions with no name. The keyword lambda denotes the no name function, and executes within a single line. Without saving it to a variable; however, it is not able to be used, unless passed in either as a paramater or within list comprehension.<br>Written as \"(keyword lambda) (one or more inputs) (colon) (function to be executed)\"</p>"
   ]
  },
  {
   "cell_type": "markdown",
   "metadata": {},
   "source": [
    "#### Syntax"
   ]
  },
  {
   "cell_type": "code",
   "execution_count": 4,
   "metadata": {},
   "outputs": [
    {
     "name": "stdout",
     "output_type": "stream",
     "text": [
      "4\n",
      "4\n"
     ]
    }
   ],
   "source": [
    "# regular function\n",
    "\n",
    "def my_func(num):\n",
    "    return num + 2\n",
    "print(my_func(2))\n",
    "\n",
    "# same function as a lambda\n",
    "\n",
    "print((lambda num: num + 2)(2)) # have to wrap the whole thing in print(...)\n"
   ]
  },
  {
   "cell_type": "markdown",
   "metadata": {},
   "source": [
    "#### Saving to a Variable"
   ]
  },
  {
   "cell_type": "code",
   "execution_count": 7,
   "metadata": {},
   "outputs": [
    {
     "name": "stdout",
     "output_type": "stream",
     "text": [
      "4\n",
      "<function <lambda> at 0x1152fe2a0>\n"
     ]
    }
   ],
   "source": [
    "f_test = lambda x: x + 2\n",
    "f_test(2)\n",
    "print(f_test(2))\n",
    "print(f_test)"
   ]
  },
  {
   "cell_type": "markdown",
   "metadata": {},
   "source": [
    "#### Multiple Inputs"
   ]
  },
  {
   "cell_type": "code",
   "execution_count": 11,
   "metadata": {},
   "outputs": [
    {
     "name": "stdout",
     "output_type": "stream",
     "text": [
      "6\n"
     ]
    },
    {
     "data": {
      "text/plain": [
       "15"
      ]
     },
     "execution_count": 11,
     "metadata": {},
     "output_type": "execute_result"
    }
   ],
   "source": [
    "print((lambda x,y,z: x + y + z)(1,2,3))\n",
    "\n",
    "x_test = lambda x,y,z: x + y + z\n",
    "x_test(4,5,6)"
   ]
  },
  {
   "cell_type": "markdown",
   "metadata": {},
   "source": [
    "#### Passing a Lambda into a Function"
   ]
  },
  {
   "cell_type": "code",
   "execution_count": 14,
   "metadata": {},
   "outputs": [
    {
     "name": "stdout",
     "output_type": "stream",
     "text": [
      "16\n"
     ]
    }
   ],
   "source": [
    "def multiply(func, num):\n",
    "\n",
    "    \"\"\"\n",
    "    func expects a lambda function\n",
    "    num expects an integer\n",
    "    \"\"\"\n",
    "\n",
    "    return func(num)\n",
    "\n",
    "print(multiply(lambda x: x**2, 4))\n"
   ]
  },
  {
   "cell_type": "markdown",
   "metadata": {},
   "source": [
    "#### Returning a Lambda from a Function"
   ]
  },
  {
   "cell_type": "code",
   "execution_count": 22,
   "metadata": {},
   "outputs": [
    {
     "name": "stdout",
     "output_type": "stream",
     "text": [
      "<function returnFunc.<locals>.multiply at 0x1152fe8e0>\n"
     ]
    },
    {
     "data": {
      "text/plain": [
       "4"
      ]
     },
     "execution_count": 22,
     "metadata": {},
     "output_type": "execute_result"
    }
   ],
   "source": [
    "# regular defined functions\n",
    "def multiply_test(num):\n",
    "    return num * 4\n",
    "\n",
    "# functions inside of function\n",
    "def returnFunc():\n",
    "    \n",
    "    def multiply(num):\n",
    "        return num * 2\n",
    "\n",
    "    return multiply\n",
    "\n",
    "f_return = returnFunc()\n",
    "print(f_return)\n",
    "# help(f_return)\n",
    "f_return(4)\n",
    "\n",
    "# lambda function return from a regular function\n",
    "def returnLamb(a,b):\n",
    "\n",
    "    return lambda c,d: (c + d) - (a + b)\n",
    "\n",
    "r_lamb = returnLamb(1,2)\n",
    "# print(r_lamb)\n",
    "r_lamb(3,4)"
   ]
  },
  {
   "cell_type": "markdown",
   "metadata": {},
   "source": [
    "#### If Statements within Lambdas"
   ]
  },
  {
   "cell_type": "code",
   "execution_count": 25,
   "metadata": {},
   "outputs": [
    {
     "name": "stdout",
     "output_type": "stream",
     "text": [
      "12\n"
     ]
    }
   ],
   "source": [
    "f_condition = lambda num: num * 2 if num < 10 else num + 2\n",
    "\n",
    "print(f_condition(10))"
   ]
  },
  {
   "cell_type": "code",
   "execution_count": 34,
   "metadata": {},
   "outputs": [
    {
     "name": "stdout",
     "output_type": "stream",
     "text": [
      "8\n"
     ]
    }
   ],
   "source": [
    "f_mult_condition = lambda num: num if num < 10 else (num * 2 if num < 15 else num * 3)\n",
    "\n",
    "print(f_mult_condition(8))"
   ]
  },
  {
   "cell_type": "code",
   "execution_count": 35,
   "metadata": {},
   "outputs": [
    {
     "data": {
      "text/plain": [
       "'Hello there!'"
      ]
     },
     "execution_count": 35,
     "metadata": {},
     "output_type": "execute_result"
    }
   ],
   "source": [
    "no_var = lambda: \"Hello there!\"\n",
    "\n",
    "no_var()"
   ]
  },
  {
   "cell_type": "markdown",
   "metadata": {},
   "source": [
    "#### In-Class Exercise #1 <br>\n",
    "<p>Write an anonymous function that cubes the arguments passed in if the number is less than  5, otherwise double  it. Assign the anonymous function to a variable 'f'.</p>"
   ]
  },
  {
   "cell_type": "code",
   "execution_count": 40,
   "metadata": {},
   "outputs": [
    {
     "name": "stdout",
     "output_type": "stream",
     "text": [
      "27\n",
      "12\n",
      "27\n",
      "12\n"
     ]
    }
   ],
   "source": [
    "# anom_Func(num):\n",
    "#     if num < 5:\n",
    "#         return num ^ 3\n",
    "#     else:\n",
    "#         return num ** 2\n",
    "\n",
    "# # print(r_lamb)\n",
    "# r_lamb(3,4)\n",
    "\n",
    "# correct answer\n",
    "\n",
    "\n",
    "           # defining        # parameter(num)     #return if conditional met\n",
    "anomFunc = lambda                num:                 num ** 3 if num < 5       else num * 2 # <-- else return\n",
    "print(anomFunc(3))\n",
    "print(anomFunc(6))\n",
    "\n",
    "# long handed way/ stored function variable\n",
    "def f(num):\n",
    "    if num < 5:\n",
    "        return num ** 3\n",
    "    else: \n",
    "        return num * 2\n",
    "print(f(3))\n",
    "print(f(6))"
   ]
  },
  {
   "cell_type": "markdown",
   "metadata": {},
   "source": [
    "## Map <br>\n",
    "<p>The map function allows you to iterate over an entire list while running a function on each item of the list. This is why the map function works well with lambda's, because it simplifies things and you write less lines of code.<br>The syntax for a map function is \"map(function to be used, list to be used)\"<br>However, you must be careful, as the map function returns a map object, not a list. To turn it into a list we use the list() type conversion.</p>"
   ]
  },
  {
   "cell_type": "markdown",
   "metadata": {},
   "source": [
    "#### Syntax"
   ]
  },
  {
   "cell_type": "code",
   "execution_count": 47,
   "metadata": {},
   "outputs": [
    {
     "name": "stdout",
     "output_type": "stream",
     "text": [
      "[(64, 64), (11, 10), (20, 3), (27, 8), (15, 6), (20, 10)]\n",
      "[64, 11, 20, 27, 15, 20]\n",
      "[64, 10, 3, 8, 6, 10]\n"
     ]
    }
   ],
   "source": [
    "# map takes in 2+ arguments: 1st is the function, 2nd is the iterable and can have multiple iterables \n",
    "\n",
    "# regular stored functions utilizing map()\n",
    "\n",
    "def squared(num1, num2):\n",
    "    if num1 < 10 and num2 < 10:\n",
    "        return num1 ** 3, num2 ** 3\n",
    "    else:\n",
    "        return num1, num2\n",
    "\n",
    "numbers = [4,11,20,3,15,20]\n",
    "more_nums = [4,10,3,2,6,10]\n",
    "\n",
    "squared_nums_map = list(map(squared, numbers, more_nums))\n",
    "print(list(squared_nums_map)) # use list to change into a list\n",
    "\n",
    "print(squared_nums_map)\n",
    "numbers2, more_nums2 = zip(*squared_nums_map)\n",
    "\n",
    "print(list(numbers2))\n",
    "print(list(more_nums2))"
   ]
  },
  {
   "cell_type": "code",
   "execution_count": 43,
   "metadata": {},
   "outputs": [
    {
     "name": "stdout",
     "output_type": "stream",
     "text": [
      "[64, 11, 20, 27, 15, 20]\n"
     ]
    }
   ],
   "source": [
    "# list comprehension version\n",
    "\n",
    "squared_nums_lc = [squared(num) for num in numbers]\n",
    "print(squared_nums_lc)"
   ]
  },
  {
   "cell_type": "code",
   "execution_count": 51,
   "metadata": {},
   "outputs": [
    {
     "name": "stdout",
     "output_type": "stream",
     "text": [
      "[(64, 64), (11, 10), (20, 3), (27, 8), (15, 6), (20, 10)]\n"
     ]
    }
   ],
   "source": [
    "# lambda version\n",
    "\n",
    "squared_nums_lambda = map(lambda num1, num2: (num1 ** 3, num2 **3) \\\n",
    "                    if num1 < 10 and num2 < 10 else (num1,num2), numbers, more_nums)\n",
    "print(list(squared_nums_lambda))"
   ]
  },
  {
   "cell_type": "markdown",
   "metadata": {},
   "source": [
    "#### Using Lambda's with Map"
   ]
  },
  {
   "cell_type": "code",
   "execution_count": 52,
   "metadata": {},
   "outputs": [
    {
     "name": "stdout",
     "output_type": "stream",
     "text": [
      "[(64, 64), (11, 10), (20, 3), (27, 8), (15, 6), (20, 10)]\n"
     ]
    }
   ],
   "source": [
    "squared_nums_lambda = map(lambda num1, num2: (num1 ** 3, num2 **3) \\\n",
    "                    if num1 < 10 and num2 < 10 else (num1,num2), numbers, more_nums)\n",
    "print(list(squared_nums_lambda))"
   ]
  },
  {
   "cell_type": "markdown",
   "metadata": {},
   "source": [
    "#### In-Class Exercise #2 <br>\n",
    "<p>Use the map function to double each number and minus it by one in the list by using a lambda function</p>"
   ]
  },
  {
   "cell_type": "code",
   "execution_count": 59,
   "metadata": {},
   "outputs": [
    {
     "name": "stdout",
     "output_type": "stream",
     "text": [
      "[7, 21, 39, 5, 29, 39]\n",
      "[(7, 7), (21, 19), (39, 5), (5, 3), (29, 11)]\n"
     ]
    }
   ],
   "source": [
    "numbers = [4,11,20,3,15,20]\n",
    "more_nums = [4,10,3,2,6]\n",
    "\n",
    "def double(num1):\n",
    "    return (num1 * 2) - 1\n",
    "\n",
    "numbers_map = list(map(double, numbers))\n",
    "print(list(numbers_map))\n",
    "\n",
    "new_list = list(map(lambda x,y: (x * 2 -1, y* 2 -1), numbers, more_nums))\n",
    "print(new_list)"
   ]
  },
  {
   "cell_type": "code",
   "execution_count": 60,
   "metadata": {},
   "outputs": [
    {
     "name": "stdout",
     "output_type": "stream",
     "text": [
      "[(7, 12), (21, 24), (39, 10), (5, 8), (29, 16)]\n"
     ]
    }
   ],
   "source": [
    "\n",
    "new_list2 = list(map(lambda x: (x[0], x[-1] + 5), new_list))\n",
    "print(new_list2)\n",
    "\n",
    "# reference this for HW"
   ]
  },
  {
   "cell_type": "markdown",
   "metadata": {},
   "source": [
    "## Filter() <br>\n",
    "<p>Filter's are similar to the map function, where you're able to pass a function argument and a list argument and filter out something from the list based on the conditions passed. Similar to the map function, it returns a filter object, so you need to type convert it to a list()</p>"
   ]
  },
  {
   "cell_type": "markdown",
   "metadata": {},
   "source": [
    "#### Syntax"
   ]
  },
  {
   "cell_type": "code",
   "execution_count": 79,
   "metadata": {},
   "outputs": [
    {
     "name": "stdout",
     "output_type": "stream",
     "text": [
      "['Leza', 'Luis']\n"
     ]
    }
   ],
   "source": [
    "names = [\"Leza\", \"Nico\", \"Luis\", \"Matt\", \"Brendan\"]\n",
    "\n",
    "def l_names(name):\n",
    "    if name[0].lower() == \"l\":\n",
    "        return True\n",
    "    else:\n",
    "        return False\n",
    "\n",
    "# syntax for filter() takes in 2+ arguments, 1st argument is function 2nd is an iterable\n",
    "\n",
    "l_name_list = list(filter(l_names, names))\n",
    "print(l_name_list)\n"
   ]
  },
  {
   "cell_type": "markdown",
   "metadata": {},
   "source": [
    "#### Using Lambda's with Filter()"
   ]
  },
  {
   "cell_type": "code",
   "execution_count": 84,
   "metadata": {},
   "outputs": [
    {
     "name": "stdout",
     "output_type": "stream",
     "text": [
      "['Leza', 'Luis']\n"
     ]
    }
   ],
   "source": [
    "l_name_lambda = list(filter(lambda name: name[0].lower()==\"l\", names))\n",
    "print(l_name_lambda)"
   ]
  },
  {
   "cell_type": "code",
   "execution_count": 99,
   "metadata": {},
   "outputs": [
    {
     "name": "stdout",
     "output_type": "stream",
     "text": [
      "['Leza', 'Nico', 'Luis', 'Matt']\n"
     ]
    }
   ],
   "source": [
    "names = [\"Leza\", \"Nico\", \"Luis\", \"Matt\", \"Brendan\"]\n",
    "\n",
    "small_name_lambda = list(filter(lambda names: True if len(names) <= 4 else False, names))\n",
    "print(small_name_lambda)\n",
    "\n",
    "# regular stored function way\n",
    "# def small_name(name):\n",
    "\n",
    "#     if len(name) <=4:\n",
    "#         return True\n",
    "#     else:\n",
    "#         return False\n",
    "\n",
    "\n"
   ]
  },
  {
   "cell_type": "code",
   "execution_count": 98,
   "metadata": {},
   "outputs": [
    {
     "name": "stdout",
     "output_type": "stream",
     "text": [
      "dict_items([('Leza', 38), ('Nico', 63), ('Luis', 78)])\n",
      "[('Nico', 63), ('Luis', 78)]\n"
     ]
    }
   ],
   "source": [
    "# can also use filter() with dictionaries\n",
    "\n",
    "rangers127_grades = {\n",
    "    \"Leza\" : 38,\n",
    "    \"Nico\" : 63,\n",
    "    \"Luis\" : 78\n",
    "\n",
    "}\n",
    "\n",
    "print(rangers127_grades.items())\n",
    "\n",
    "grades_filtered = filter(lambda x: x[-1] > 50, rangers127_grades.items())\n",
    "print(list(grades_filtered))"
   ]
  },
  {
   "cell_type": "markdown",
   "metadata": {},
   "source": [
    "#### In-Class Exercise #3 <br>\n",
    "<p>Filter out all the numbers that are below the mean of the list.<br><b>Hint: Import the 'statistics' module</b></p>"
   ]
  },
  {
   "cell_type": "code",
   "execution_count": 125,
   "metadata": {},
   "outputs": [
    {
     "name": "stdout",
     "output_type": "stream",
     "text": [
      "4.728571428571429\n",
      "[7, 9, 4.9]\n"
     ]
    }
   ],
   "source": [
    "from statistics import mean\n",
    "\n",
    "nums = [2, 7, 4.2, 1.6, 9, 4.4, 4.9]\n",
    "print(mean(nums))\n",
    "\n",
    "mean_filter = list(filter(lambda x: x > mean(nums), nums))\n",
    "print(mean_filter)\n",
    "\n",
    "# this is going to take some getting used to sigh lol"
   ]
  },
  {
   "cell_type": "markdown",
   "metadata": {},
   "source": [
    "## Reduce() <br>\n",
    "<p>Be very careful when using this function, as of Python 3 it's been moved to the 'functools' library and no longer is a built-in function.<br>The creator of Python himself, says to just use a for loop instead.</p>"
   ]
  },
  {
   "cell_type": "markdown",
   "metadata": {},
   "source": [
    "#### Syntax"
   ]
  },
  {
   "cell_type": "code",
   "execution_count": 128,
   "metadata": {},
   "outputs": [
    {
     "name": "stdout",
     "output_type": "stream",
     "text": [
      "30\n",
      "30\n",
      "-26\n"
     ]
    }
   ],
   "source": [
    "from functools import reduce\n",
    "\n",
    "# syntax for reduce(), takes in 2+ arguments, 1st in function 2nd in iterable\n",
    "\n",
    "num_list = [2,4,6,8,10]\n",
    "\n",
    "# regular stored function\n",
    "def addNums(num1,num2):\n",
    "    return num1 + num2\n",
    "\n",
    "result = reduce(addNums, num_list)\n",
    "print(result)\n",
    "print(sum(num_list))\n",
    "\n",
    "def subNums(num1,num2):\n",
    "    return num1 - num2\n",
    "\n",
    "result_sub = reduce(subNums, num_list)\n",
    "\n",
    "print(result_sub)"
   ]
  },
  {
   "cell_type": "code",
   "execution_count": 132,
   "metadata": {},
   "outputs": [
    {
     "name": "stdout",
     "output_type": "stream",
     "text": [
      "-26\n"
     ]
    }
   ],
   "source": [
    "result = num_list[0]\n",
    "\n",
    "for i in range(1, len(num_list)):\n",
    "    result -= num_list[i]\n",
    "\n",
    "print(result)"
   ]
  },
  {
   "cell_type": "markdown",
   "metadata": {},
   "source": [
    "#### Using Lambda's with Reduce()"
   ]
  },
  {
   "cell_type": "code",
   "execution_count": 133,
   "metadata": {},
   "outputs": [
    {
     "name": "stdout",
     "output_type": "stream",
     "text": [
      "-26\n"
     ]
    }
   ],
   "source": [
    "result_lambda = reduce(lambda num1, num2: num1-num2, num_list)\n",
    "print(result_lambda)"
   ]
  },
  {
   "cell_type": "markdown",
   "metadata": {},
   "source": [
    "#### In-Class Exercise #4 <br>\n",
    "<p>Use the reduce function to multiply the numbers in the list below together with a lambda function.</p>"
   ]
  },
  {
   "cell_type": "code",
   "execution_count": 134,
   "metadata": {},
   "outputs": [
    {
     "name": "stdout",
     "output_type": "stream",
     "text": [
      "3840\n"
     ]
    }
   ],
   "source": [
    "num_list = [2,4,6,8,10]\n",
    "\n",
    "mult_lambda = reduce(lambda num1, num2: num1 * num2, num_list)\n",
    "print(mult_lambda)"
   ]
  },
  {
   "cell_type": "code",
   "execution_count": 135,
   "metadata": {},
   "outputs": [
    {
     "name": "stdout",
     "output_type": "stream",
     "text": [
      "3840\n"
     ]
    }
   ],
   "source": [
    "result = 1 \n",
    "\n",
    "for value in num_list:\n",
    "    result *= value\n",
    "\n",
    "print(result)"
   ]
  },
  {
   "cell_type": "markdown",
   "metadata": {},
   "source": [
    "## Generators <br>\n",
    "<p>Generators are a type of iterable, like lists or tuples. They do not allow indexing, but they can still be iterated through with for loops. They are created using functions and the yield statement.</p>"
   ]
  },
  {
   "cell_type": "markdown",
   "metadata": {},
   "source": [
    "#### Yield Keyword <br>\n",
    "<p>The yield keyword denotes a generator, it doesn't return so it won't leave the function and reset all variables in the function scope, instead it yields the number back to the caller.</p>"
   ]
  },
  {
   "cell_type": "code",
   "execution_count": 136,
   "metadata": {
    "scrolled": true
   },
   "outputs": [
    {
     "name": "stdout",
     "output_type": "stream",
     "text": [
      "0\n",
      "2\n",
      "4\n",
      "6\n",
      "8\n",
      "10\n",
      "12\n",
      "14\n",
      "16\n",
      "18\n"
     ]
    }
   ],
   "source": [
    "# coding out a range generator function\n",
    "\n",
    "# function becomes an iterator\n",
    "# helpful for big groups of data\n",
    "def my_range(start, stop, step=2):\n",
    "    while start < stop:\n",
    "        yield start # cant use a return here\n",
    "        start += step\n",
    "\n",
    "for i in my_range(0,20):\n",
    "    print(i)\n",
    "    "
   ]
  },
  {
   "cell_type": "markdown",
   "metadata": {},
   "source": [
    "#### next() keyword\n",
    "<p>Returns next element from the list, if not present prints the default value. If default value is not present, raises the StopIteration error.</p>"
   ]
  },
  {
   "cell_type": "code",
   "execution_count": 137,
   "metadata": {},
   "outputs": [],
   "source": [
    "def my_range(start, stop, step=2):\n",
    "    while start < stop:\n",
    "        yield start # cant use a return here\n",
    "        start += step\n",
    "\n"
   ]
  },
  {
   "cell_type": "markdown",
   "metadata": {},
   "source": [
    "#### Creating a Generator Object\n",
    "<p>The generator object will store an iterable on which we can call the next() method.</p>"
   ]
  },
  {
   "cell_type": "code",
   "execution_count": 148,
   "metadata": {},
   "outputs": [],
   "source": [
    "generator_object = my_range(5, 20)"
   ]
  },
  {
   "cell_type": "code",
   "execution_count": 157,
   "metadata": {},
   "outputs": [
    {
     "ename": "StopIteration",
     "evalue": "",
     "output_type": "error",
     "traceback": [
      "\u001b[0;31m---------------------------------------------------------------------------\u001b[0m",
      "\u001b[0;31mStopIteration\u001b[0m                             Traceback (most recent call last)",
      "Cell \u001b[0;32mIn[157], line 1\u001b[0m\n\u001b[0;32m----> 1\u001b[0m \u001b[38;5;28;43mnext\u001b[39;49m\u001b[43m(\u001b[49m\u001b[43mgenerator_object\u001b[49m\u001b[43m)\u001b[49m\n",
      "\u001b[0;31mStopIteration\u001b[0m: "
     ]
    }
   ],
   "source": [
    "next(generator_object)"
   ]
  },
  {
   "cell_type": "markdown",
   "metadata": {},
   "source": [
    "<p>Use try and except to print graceful message instead of the StopIteration error:"
   ]
  },
  {
   "cell_type": "code",
   "execution_count": 158,
   "metadata": {},
   "outputs": [
    {
     "name": "stdout",
     "output_type": "stream",
     "text": [
      "Iterator object is at the end. No more values to return\n"
     ]
    }
   ],
   "source": [
    "try:\n",
    "    print(next(generator_object))\n",
    "except:\n",
    "    print(\"Iterator object is at the end. No more values to return\")"
   ]
  },
  {
   "cell_type": "code",
   "execution_count": null,
   "metadata": {},
   "outputs": [],
   "source": []
  },
  {
   "cell_type": "code",
   "execution_count": null,
   "metadata": {},
   "outputs": [],
   "source": []
  },
  {
   "cell_type": "markdown",
   "metadata": {},
   "source": [
    "#### In-Class Exercise #6 <br>\n",
    "<p>Create a generator that takes a number argument and yields that number squared, then prints each number squared until zero is reached.</p>"
   ]
  },
  {
   "cell_type": "code",
   "execution_count": 178,
   "metadata": {},
   "outputs": [
    {
     "name": "stdout",
     "output_type": "stream",
     "text": [
      "441\n",
      "400\n",
      "361\n",
      "324\n",
      "289\n",
      "256\n",
      "225\n",
      "196\n",
      "169\n",
      "144\n",
      "121\n",
      "100\n",
      "81\n",
      "64\n",
      "49\n",
      "36\n",
      "25\n",
      "16\n",
      "9\n",
      "4\n",
      "1\n",
      "0\n"
     ]
    }
   ],
   "source": [
    "def squaredGenNums(start_num):\n",
    "    while start_num >= 0:\n",
    "        yield start_num ** 2\n",
    "        start_num -= 1\n",
    "\n",
    "start_num = 21\n",
    "generator = squaredGenNums(start_num)\n",
    "\n",
    "for squared_num in generator:\n",
    "    print(squared_num)"
   ]
  },
  {
   "cell_type": "markdown",
   "metadata": {},
   "source": [
    "# Exercises"
   ]
  },
  {
   "cell_type": "markdown",
   "metadata": {},
   "source": [
    "### Exercise #1 <br>\n",
    "<p>Filter out all of the empty strings from the list below</p>\n",
    "\n",
    "`Output: ['Argentina', 'San Diego', 'Boston', 'New York']`"
   ]
  },
  {
   "cell_type": "code",
   "execution_count": 19,
   "metadata": {},
   "outputs": [
    {
     "name": "stdout",
     "output_type": "stream",
     "text": [
      "['Argentina', 'San Diego', 'Boston', 'New York']\n"
     ]
    }
   ],
   "source": [
    "places = [\" \",\"Argentina\", \" \", \"San Diego\",\"\",\"  \",\"\",\"Boston\",\"New York\"]\n",
    "\n",
    "places = list(filter(lambda x: len(x) >2, places)) # i set length greater than 2 to count for spacing. I am sure there is a better way\n",
    "                                                    # to do this\n",
    "print(places)\n",
    "\n",
    "\n"
   ]
  },
  {
   "cell_type": "markdown",
   "metadata": {},
   "source": [
    "### Exercise #2 <br>\n",
    "<p>Write an anonymous function that sorts this list by the last name...<br><b>Hint: Use the \".sort()\" method and access the key\"</b></p>\n",
    "\n",
    "`Output: ['Victor aNisimov', 'Gary A.J. Bernstein', 'Joel Carter', 'Andrew P. Garfield', 'David hassELHOFF']`"
   ]
  },
  {
   "cell_type": "code",
   "execution_count": 36,
   "metadata": {},
   "outputs": [
    {
     "name": "stdout",
     "output_type": "stream",
     "text": [
      "['Victor aNisimov', 'Gary A.J. Bernstein', 'Joel Carter', 'Andrew P. Garfield', 'David hassELHOFF']\n"
     ]
    }
   ],
   "source": [
    "author = [\"Joel Carter\", \"Victor aNisimov\", \"Andrew P. Garfield\",\"David hassELHOFF\",\"Gary A.J. Bernstein\"]\n",
    "\n",
    "# anonoymous function = lambda function\n",
    "\n",
    "def lastNameSort(author):\n",
    "    author.sort(key=lambda l_name: l_name.split()[-1].lower()) # using .split() and .lower() to make sure that lower-case l\n",
    "                                                                # last names are accounted for\n",
    "    return author\n",
    "\n",
    "print(lastNameSort(author))\n",
    "\n",
    "\n"
   ]
  },
  {
   "cell_type": "markdown",
   "metadata": {},
   "source": [
    "### Exercise #3 <br>\n",
    "<p>Convert the list below from Celsius to Farhenheit, using the map function with a lambda...</p>\n",
    "\n",
    "`Output: [('Nashua', 89.6), ('Boston', 53.6), ('Los Angelos', 111.2), ('Miami', 84.2)]\n",
    "`"
   ]
  },
  {
   "cell_type": "code",
   "execution_count": 39,
   "metadata": {},
   "outputs": [
    {
     "name": "stdout",
     "output_type": "stream",
     "text": [
      "[('Nashua', 89.6), ('Boston', 53.6), ('Los Angeles', 111.2), ('Miami', 84.2)]\n"
     ]
    }
   ],
   "source": [
    "# F = (9/5)*C + 32\n",
    "places = [('Nashua',32),(\"Boston\",12),(\"Los Angeles\",44),(\"Miami\",29)]\n",
    "\n",
    "conversion_places = list(map(lambda temp: (temp[0], (9/5) * temp[1] + 32), places))\n",
    "\n",
    "print(conversion_places)\n",
    "\n"
   ]
  },
  {
   "cell_type": "markdown",
   "metadata": {},
   "source": [
    "### Exercise #4 <br>\n",
    "<p>Create a generator function that individually returns each movie genre back from the list</p>\n",
    "\n",
    "\n"
   ]
  },
  {
   "cell_type": "code",
   "execution_count": 8,
   "metadata": {
    "scrolled": true
   },
   "outputs": [
    {
     "name": "stdout",
     "output_type": "stream",
     "text": [
      "adventure\n",
      "1\n",
      "drama\n",
      "2\n",
      "horror\n",
      "3\n",
      "comedy\n",
      "4\n",
      "action\n",
      "5\n",
      "romance\n",
      "6\n"
     ]
    }
   ],
   "source": [
    "genres = [\"adventure\", \"drama\", \"horror\", \"comedy\", \"action\", \"romance\"]\n",
    "\n",
    "\n",
    "def genreGenerator():\n",
    "    \"\"\"\n",
    "    added n variable to count\n",
    "    \n",
    "    \"\"\"\n",
    "    # try to re write this (look up how to extract list items again)\n",
    "    n = 1 \n",
    "    print(\"adventure\")\n",
    "    yield n\n",
    "\n",
    "    n += 1\n",
    "    print(\"drama\")\n",
    "    yield n\n",
    "\n",
    "    n += 1\n",
    "    print(\"horror\")\n",
    "    yield n\n",
    "\n",
    "    n += 1\n",
    "    print(\"comedy\")\n",
    "    yield n\n",
    "\n",
    "    n += 1\n",
    "    print(\"action\")\n",
    "    yield n\n",
    "\n",
    "    n += 1\n",
    "    print(\"romance\")\n",
    "    yield n\n",
    "\n",
    "for genre in genreGenerator():\n",
    "    print(genre)\n",
    "\n",
    "\n",
    "        \n",
    "\n",
    "        \n",
    "    \n",
    "\n"
   ]
  },
  {
   "cell_type": "code",
   "execution_count": null,
   "metadata": {},
   "outputs": [],
   "source": []
  }
 ],
 "metadata": {
  "kernelspec": {
   "display_name": "Python 3 (ipykernel)",
   "language": "python",
   "name": "python3"
  },
  "language_info": {
   "codemirror_mode": {
    "name": "ipython",
    "version": 3
   },
   "file_extension": ".py",
   "mimetype": "text/x-python",
   "name": "python",
   "nbconvert_exporter": "python",
   "pygments_lexer": "ipython3",
   "version": "3.11.4"
  }
 },
 "nbformat": 4,
 "nbformat_minor": 4
}
